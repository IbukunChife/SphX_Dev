{
 "cells": [
  {
   "cell_type": "code",
   "execution_count": null,
   "metadata": {},
   "outputs": [],
   "source": [
    "import os\n",
    "from collections import Counter"
   ]
  },
  {
   "cell_type": "markdown",
   "metadata": {},
   "source": [
    "Essa função tem como objetivo de criar um dicionario de palavra dentro de varios arquivos da mesma natureza, ela mostra o quanto um determinado palavras é usado"
   ]
  },
  {
   "cell_type": "code",
   "execution_count": null,
   "metadata": {},
   "outputs": [],
   "source": [
    "def construir_dicionario():\n",
    "    diretorio = \"noticias/\"\n",
    "    files = os.listdir(diretorio)\n",
    "    notice = [diretorio +  note for note in files]\n",
    "    palavras = []\n",
    "    contador_noticia = len (notice)\n",
    "    for note in notice:\n",
    "        f = open(note)\n",
    "        blob = f.read()\n",
    "        palavras += blob.split(\" \")\n",
    "        print (contador_noticia)\n",
    "        contador_noticia -= 1\n",
    "    print (palavras)\n",
    "    \n",
    "    for i in range(len(palavras)):\n",
    "        if not palavras[i].isalpha():\n",
    "            palavras[i]=\"\" \n",
    "    dictionary = Counter(palavras)\n",
    "    del dictionary[\"\"]\n",
    "    return dictionary.most_common(3000)"
   ]
  },
  {
   "cell_type": "code",
   "execution_count": null,
   "metadata": {},
   "outputs": [],
   "source": []
  },
  {
   "cell_type": "code",
   "execution_count": null,
   "metadata": {},
   "outputs": [],
   "source": [
    "def construir_dataset(dicionario):\n",
    "    diretorio = \"noticias/\"\n",
    "    arquivo = os.listdir(diretorio)\n",
    "    lista_arq_noticia = [diretorio +  note for note in arquivo]\n",
    "    \n",
    "    feature_set = []\n",
    "    labels = []\n",
    "    contador_noticia = len (lista_arq_noticia)\n",
    "    for note in lista_arq_noticia):\n",
    "        dados = []\n",
    "        f = open(note)\n",
    "        palavras = f.read().split(' ')\n",
    "        # Aqui esta pegando a cada tupla dentro do dicionario o \n",
    "        #quantas vezes se encontra a palavra que esta na primeira posição\n",
    "        # da entradad dentro da palavras do arquivo em si.\n",
    "        for entrado in dicionario:\n",
    "            data.append(palavras.count(entrado[0]))\n",
    "        feature_set.append(data)\n",
    "        # Aqui esta apenas como um marcador em \"0\" da onde se encontra \n",
    "        # a palavras \"han\" no nome do arquivo.txt dentro do directorio\n",
    "        if \"han\" in lista_arq_noticia:\n",
    "            labels.append(0)\n",
    "        # Aqui esta apenas como um marcador em \"1\" da onde se encontra \n",
    "        # a palavras \"spam\" no nome do arquivo.txt dentro do directorio\n",
    "        if \"spam\" in lista_arq_noticia:\n",
    "            labels.append(1)\n",
    "        print(contador_noticia)\n",
    "        contador_noticia -= 1\n",
    "    return feature_set,labels\n",
    "    "
   ]
  }
 ],
 "metadata": {
  "kernelspec": {
   "display_name": "Python 3",
   "language": "python",
   "name": "python3"
  },
  "language_info": {
   "codemirror_mode": {
    "name": "ipython",
    "version": 3
   },
   "file_extension": ".py",
   "mimetype": "text/x-python",
   "name": "python",
   "nbconvert_exporter": "python",
   "pygments_lexer": "ipython3",
   "version": "3.6.5"
  }
 },
 "nbformat": 4,
 "nbformat_minor": 2
}
