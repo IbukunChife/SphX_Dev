{
 "cells": [
  {
   "cell_type": "code",
   "execution_count": 1,
   "metadata": {},
   "outputs": [],
   "source": [
    "import requests\n",
    "import numpy as np\n",
    "import pandas as pd\n",
    "from bs4 import BeautifulSoup\n",
    "from textblob import TextBlob"
   ]
  },
  {
   "cell_type": "code",
   "execution_count": 2,
   "metadata": {},
   "outputs": [],
   "source": [
    "response = requests.get('https://www.folhabv.com.br/noticia/ONU-vai-controlar-verbas-de-ajuda-humanitaria-para-Venezuela/46901')"
   ]
  },
  {
   "cell_type": "code",
   "execution_count": 4,
   "metadata": {},
   "outputs": [],
   "source": [
    "soup =  BeautifulSoup(response.text, 'html.parser')"
   ]
  },
  {
   "cell_type": "code",
   "execution_count": 6,
   "metadata": {},
   "outputs": [],
   "source": [
    "links = soup.findAll('div', attrs={'class': 'text'})\n",
    "titulo = soup.find('title')"
   ]
  },
  {
   "cell_type": "code",
   "execution_count": 7,
   "metadata": {},
   "outputs": [],
   "source": [
    "info = []\n",
    "sent = []\n",
    "fim = []\n",
    "tit = []\n",
    "for link in links:\n",
    "    info.append((link.text,link.get('p')))\n",
    "sent = info[0][0].split('\\n')\n",
    "for ele in sent:\n",
    "    if (ele != '') and (ele != ' '):\n",
    "        fim.append(ele)\n",
    "tit.append ((titulo.text,titulo.get('title')))\n",
    "tit=tit[0][0]"
   ]
  },
  {
   "cell_type": "code",
   "execution_count": 8,
   "metadata": {},
   "outputs": [
    {
     "data": {
      "text/plain": [
       "[('\\nA Organização das Nações Unidas (ONU) afirmou que vai controlar os U$$ 9,2 milhões (cerca de R$ 35,5 milhões) liberados nos últimos dias para o enfrentamento da crise humanitária na Venezuela.\\nA dotação, segundo a entidade, será repassada para as agências que atuam no país para financiar projetos de combate à desnutrição infantil e gestantes, assistência médica a mulheres vítimas de violência e fornecimento da água tratada e saneamento básico a deslocados.\\nVale destacar que em maio deste ano a ONU já havia liberado U$$ 6,2 milhões (R$ 24 milhões) para iniciativas de apoio a refugiados da Venezuela e solicitantes de asilo em territórios vizinhos, como Brasil. Esse novo aporte, entretanto, é o primeiro que será desenvolvido em território venezuelano.\\nO maior montante, U$$ 3,6 milhões (R$ 14 milhões), será repassado para a Organização Mundial de Saúde (OMS). Outras entidades que vão receber esse aporte são o Fundo de População das Nações Unidas (R$ 6,5 milhões), a Organização, Organização Mundial para as Migrações (R$ 1,5 milhão), o Alto Comissariado das Nações Unidas para Refugiados (R$ 2,9 milhões) e o Fundo das Nações Unidas para a Infância (R$ 10 milhões).\\nO total destinado pelo Fundo Central de Resposta Emergencial (Cerf) é compatível com ações na Coreia do Norte (R$ 29 milhões), Níger (R$ 26 milhões) e Haiti (R$ 34,6 milhões). \\xa0\\xa0\\nA expectativa agora é que a primeira injeção de recurso abra a possibilidade de execução de uma série de ajudas humanitárias em todo o território venezuelano, mesmo diante da questão política do país.\\n*INFORMAÇÕES: Jornal Folha de São Paulo.\\n',\n",
       "  None)]"
      ]
     },
     "execution_count": 8,
     "metadata": {},
     "output_type": "execute_result"
    }
   ],
   "source": [
    "info"
   ]
  },
  {
   "cell_type": "code",
   "execution_count": 10,
   "metadata": {},
   "outputs": [
    {
     "data": {
      "text/plain": [
       "'ONU vai controlar verbas de ajuda humanitária para Venezuela - Folha de Boa Vista'"
      ]
     },
     "execution_count": 10,
     "metadata": {},
     "output_type": "execute_result"
    }
   ],
   "source": [
    "tit"
   ]
  },
  {
   "cell_type": "code",
   "execution_count": null,
   "metadata": {},
   "outputs": [],
   "source": []
  }
 ],
 "metadata": {
  "kernelspec": {
   "display_name": "Python 3",
   "language": "python",
   "name": "python3"
  },
  "language_info": {
   "codemirror_mode": {
    "name": "ipython",
    "version": 3
   },
   "file_extension": ".py",
   "mimetype": "text/x-python",
   "name": "python",
   "nbconvert_exporter": "python",
   "pygments_lexer": "ipython3",
   "version": "3.6.6"
  }
 },
 "nbformat": 4,
 "nbformat_minor": 2
}
