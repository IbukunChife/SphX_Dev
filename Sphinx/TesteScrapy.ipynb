{
 "cells": [
  {
   "cell_type": "code",
   "execution_count": 3,
   "metadata": {},
   "outputs": [],
   "source": [
    "# -*- coding: utf-8 -*-\n",
    "import scrapy"
   ]
  },
  {
   "cell_type": "code",
   "execution_count": null,
   "metadata": {},
   "outputs": [],
   "source": [
    "response # arquivo recebido do request o html\n",
    "response.body # mostra o corpo do html\n",
    "response.css(\" Pode colocar aqui o tag.Nome do attr\")\n",
    "# exemplo response.css(\"div.article div.title a::attr(href)/ ou seja a::text\").extract()"
   ]
  },
  {
   "cell_type": "code",
   "execution_count": null,
   "metadata": {},
   "outputs": [],
   "source": [
    "class FolhaBvSpider(scrapy.Spider):\n",
    "    nome = 'FolhaBv'\n",
    "    dominio = ['www.folhabv.com.br']\n",
    "    url = ['https://www.folhabv.com.br']\n",
    "    noticias = []\n",
    "    def parse(self,response):\n",
    "        for links in response.css(\"a::attr(href)\").extract():\n",
    "            if \"noticia\" in links:\n",
    "               $noticias.append(links)\n",
    "    \n",
    "        \n",
    "        \n",
    "    "
   ]
  }
 ],
 "metadata": {
  "kernelspec": {
   "display_name": "Python 3",
   "language": "python",
   "name": "python3"
  },
  "language_info": {
   "codemirror_mode": {
    "name": "ipython",
    "version": 3
   },
   "file_extension": ".py",
   "mimetype": "text/x-python",
   "name": "python",
   "nbconvert_exporter": "python",
   "pygments_lexer": "ipython3",
   "version": "3.6.6"
  }
 },
 "nbformat": 4,
 "nbformat_minor": 2
}
